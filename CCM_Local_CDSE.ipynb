{
 "cells": [
  {
   "cell_type": "markdown",
   "id": "6b590370",
   "metadata": {},
   "source": [
    "# INTEGRATED USE OF MULTISOURCE REMOTE SENSING DATA FOR NATIONAL SCALE AGRICULTURAL  DROUGHT MONITORING IN KENYA\n",
    "# ADM-Kenya, 2024\n",
    "# High-Resolution Crop Condition Mapping"
   ]
  },
  {
   "cell_type": "markdown",
   "id": "1e35ba2c",
   "metadata": {},
   "source": [
    "\n",
    "The crop condition mapping is the approach to monitor croplands pixels affected by drought using Vegetation Indices (VIs) generated from Sentinle-2 images. The approach performs a binary classification to map drought-affected and unaffected croplands. To do so, a random forest model is trained by VIs time series of two years as drought and non-drought years for each AEZ. Thus, seven machine learning models are independently trained to map drought affected areas. After initial tests and prototypes locally on ZALF HPC, the scripts of crop condition mapping were adapted to run on cloud platforms. Here, we used a cloud provider, openEO.\n"
   ]
  },
  {
   "cell_type": "markdown",
   "id": "5e4e3ad2",
   "metadata": {},
   "source": [
    "# Tools and Libraries\n",
    "\n",
    "We will use the following libraries:\n",
    "\n",
    "    openEO: A library to initiate using of openEO facility, including various dependencies for processing data collections.\n",
    "    NumPy: A fundamental package for scientific computing in Python.\n",
    "    Rasterio: A library for reading and writing geospatial raster datasets.\n",
    "    Matplotlib: A comprehensive library for creating static, animated, and interactive visualizations.\n",
    "    scikit-learn: A machine learning library, including many unsupervised and supervised learning algorithms.\n",
    "    skl2onnx: A library to convert scikit-learn to ONXX format\n",
    "    Pandas: A data manipulation anf analyis library    "
   ]
  },
  {
   "cell_type": "code",
   "execution_count": 1,
   "id": "7738f07b",
   "metadata": {},
   "outputs": [],
   "source": [
    "import openeo\n",
    "import openeo.extra.spectral_indices as opc \n",
    "import numpy as np\n",
    "import openeo.processes as eop\n",
    "from numpy import uint8\n",
    "import rasterio\n",
    "from rasterio.plot import show\n",
    "import matplotlib.pyplot as plt\n",
    "import matplotlib.colors\n",
    "from sklearn.ensemble import RandomForestClassifier\n",
    "from sklearn.model_selection import train_test_split\n",
    "from sklearn.metrics import accuracy_score\n",
    "from skl2onnx import to_onnx\n",
    "from numpy import uint8\n",
    "import pandas as pd"
   ]
  },
  {
   "cell_type": "markdown",
   "id": "9b01c5d0",
   "metadata": {},
   "source": [
    " Authentication and Generating Connection to Copernicus Data Space Ecosystem:"
   ]
  },
  {
   "cell_type": "code",
   "execution_count": 2,
   "id": "824c5328",
   "metadata": {},
   "outputs": [
    {
     "name": "stdout",
     "output_type": "stream",
     "text": [
      "Authenticated using refresh token.\n"
     ]
    }
   ],
   "source": [
    "connection = openeo.connect(\"openeo.dataspace.copernicus.eu\").authenticate_oidc()"
   ]
  },
  {
   "cell_type": "markdown",
   "id": "daae0125",
   "metadata": {},
   "source": [
    "List of Available Data Collections:"
   ]
  },
  {
   "cell_type": "code",
   "execution_count": 3,
   "id": "4ec4c0a6",
   "metadata": {},
   "outputs": [
    {
     "data": {
      "text/plain": [
       "['SENTINEL3_OLCI_L1B',\n",
       " 'SENTINEL3_SLSTR',\n",
       " 'SENTINEL_5P_L2',\n",
       " 'COPERNICUS_VEGETATION_PHENOLOGY_PRODUCTIVITY_10M_SEASON1',\n",
       " 'COPERNICUS_VEGETATION_PHENOLOGY_PRODUCTIVITY_10M_SEASON2',\n",
       " 'COPERNICUS_PLANT_PHENOLOGY_INDEX',\n",
       " 'ESA_WORLDCOVER_10M_2020_V1',\n",
       " 'ESA_WORLDCOVER_10M_2021_V2',\n",
       " 'COPERNICUS_VEGETATION_INDICES',\n",
       " 'SENTINEL2_L1C',\n",
       " 'SENTINEL2_L2A',\n",
       " 'SENTINEL1_GRD',\n",
       " 'COPERNICUS_30',\n",
       " 'LANDSAT8_L2',\n",
       " 'SENTINEL3_SYN_L2_SYN',\n",
       " 'SENTINEL3_SLSTR_L2_LST']"
      ]
     },
     "execution_count": 3,
     "metadata": {},
     "output_type": "execute_result"
    }
   ],
   "source": [
    "connection.list_collection_ids()"
   ]
  },
  {
   "cell_type": "markdown",
   "id": "b8117a50",
   "metadata": {},
   "source": [
    "## Data collection:\n",
    "***\n",
    "<div align=\"justify\"> Before loading a collection, we need to find out the exact name of a collection we want to use (back-end-specific). We assign the spatial and temporal extent to variables, so that we can re-use them on other collections we might want to load. First, the Sentinel 2 data collection is loaded as “SENTINEL2_L2A”. Then, the spatial extent of the area of interest (aoi) is provided via the “spatial_extent”. This area can also be selected by a shapefile. However, the function finally takes the extent of shapefile as “spatial_extent”. “temporal_extent” is for giving the period of images that it is needed. Here, we have two separated examples for years 2018 and 2021. To go through the desired output formats, we'll need one collection with several bands. Here we use “bands” to get those bands for calculating VIs and cloud masking (“SCL”). Since Sentinel-2 images consist of clouds, it is beneficial to choose those images with limited cloud coverage. In this example, only images with maximum cloud coverage of 30% are selected.\n",
    "</div>\n",
    "\n",
    "***\n"
   ]
  },
  {
   "cell_type": "code",
   "execution_count": null,
   "id": "491f51f5",
   "metadata": {},
   "outputs": [],
   "source": [
    "# Sentinel 2 data for 2018 (as unaffected drought year)\n",
    "\n",
    "S2_2018_cloudfree = connection.load_collection(\n",
    "  \"SENTINEL2_L2A\",\n",
    "  spatial_extent={\"west\": 34.282, \"south\": 0.658, \"east\": 34.447, \"north\": 0.769},\n",
    "  temporal_extent=[\"2018-02-01\", \"2018-07-31\"],\n",
    "  bands=[\"B02\",\"B03\",\"B04\",\"B05\",\"B08\",\"B11\"],\n",
    "  max_cloud_cover=30\n",
    ")\n",
    "\n",
    "# Sentinel 2 data for 2021 (as affected drought year)\n",
    "\n",
    "S2_2021_cloudfree = connection.load_collection(\n",
    "  \"SENTINEL2_L2A\",\n",
    "  spatial_extent={\"west\": 34.282, \"south\": 0.658, \"east\": 34.447, \"north\": 0.769},\n",
    "  temporal_extent=[\"2021-02-01\", \"2021-07-31\"],\n",
    "  bands=[\"B02\",\"B03\",\"B04\",\"B05\",\"B08\",\"B11\"],\n",
    "  max_cloud_cover=30\n",
    ")\n",
    "\n",
    "\n",
    "# Sentinel 2 data for a target year\n",
    "\n",
    "S2_2023_cloudfree = connection.load_collection(\n",
    "  \"SENTINEL2_L2A\",\n",
    "  spatial_extent={\"west\": 34.282, \"south\": 0.658, \"east\": 34.447, \"north\": 0.769},\n",
    "  temporal_extent=[\"2023-02-01\", \"2023-07-31\"],\n",
    "  bands=[\"B02\",\"B03\",\"B04\",\"B05\",\"B08\",\"B11\"],\n",
    "  max_cloud_cover=30\n",
    ")"
   ]
  },
  {
   "cell_type": "markdown",
   "id": "9ce659fd",
   "metadata": {},
   "source": [
    "\"ESA_WORLDCOVER_10M_2021_V2\" is used to only get the cropland pixels:"
   ]
  },
  {
   "cell_type": "code",
   "execution_count": 6,
   "id": "2a389204",
   "metadata": {},
   "outputs": [],
   "source": [
    "# Croplands masking:\n",
    "cropland_mask = connection.load_collection(\"ESA_WORLDCOVER_10M_2021_V2\", bands=[\"MAP\"],\n",
    "                                temporal_extent = [\"2000-01-01\", \"2024-01-01\"],\n",
    "                                spatial_extent={\"west\": 34.282, \"south\": 0.658, \"east\": 34.447, \"north\": 0.769}\n",
    "                    )\n",
    "\n",
    "cropland_mask = cropland_mask.band(\"MAP\") != 40"
   ]
  },
  {
   "cell_type": "markdown",
   "id": "7977197f",
   "metadata": {},
   "source": [
    "## Cloud Masking:\n",
    "\n",
    "***\n",
    "<div align=\"justify\"> Before loading a collection, we need to find out the exact name of a collection we want to use (back-end-specific). We assign the spatial and temporal extent to variables, so that we can re-use them on other collections we might want to load. First, the Sentinel 2 data collection is loaded as “SENTINEL2_L2A”. Then, the spatial extent of the area of interest (aoi) is provided via the “spatial_extent”. This area can also be selected by a shapefile. However, the function finally takes the extent of shapefile as “spatial_extent”. “temporal_extent” is for giving the period of images that it is needed. Here, we have two separated examples for years 2018 and 2021. To go through the desired output formats, we'll need one collection with several bands. Here we use “bands” to get those bands for calculating VIs and cloud masking (“SCL”). Since Sentinel-2 images consist of clouds, it is beneficial to choose those images with limited cloud coverage. In this example, only images with maximum cloud coverage of 30% are selected.\n",
    "</div>\n",
    "\n",
    "    The next step is to mask pixels covered by clouds and clouds’ shadow in all three datacubes.\n",
    "    This information is available in SCL band, accessing by band numbers, such as 3, 8, and 9."
   ]
  },
  {
   "cell_type": "code",
   "execution_count": 7,
   "id": "26c3c54a",
   "metadata": {},
   "outputs": [],
   "source": [
    "S2_2018_cloudfree_scl = connection.load_collection(\n",
    "  \"SENTINEL2_L2A\",\n",
    "  spatial_extent={\"west\": 34.282, \"south\": 0.658, \"east\": 34.447, \"north\": 0.769},\n",
    "  temporal_extent=[\"2018-02-01\", \"2018-07-31\"],\n",
    "  bands=[\"SCL\"],\n",
    "  max_cloud_cover=30\n",
    ")\n",
    "\n",
    "# Sentinel 2 data for 2021 (as affected drought year)\n",
    "\n",
    "S2_2021_cloudfree_scl = connection.load_collection(\n",
    "  \"SENTINEL2_L2A\",\n",
    "  spatial_extent={\"west\": 34.282, \"south\": 0.658, \"east\": 34.447, \"north\": 0.769},\n",
    "  temporal_extent=[\"2021-02-01\", \"2021-07-31\"],\n",
    "  bands=[\"SCL\"],\n",
    "  max_cloud_cover=30\n",
    ")\n",
    "\n",
    "# Sentinel 2 data for the target year\n",
    "\n",
    "S2_2023_cloudfree_scl = connection.load_collection(\n",
    "  \"SENTINEL2_L2A\",\n",
    "  spatial_extent={\"west\": 34.282, \"south\": 0.658, \"east\": 34.447, \"north\": 0.769},\n",
    "  temporal_extent=[\"2023-02-01\", \"2023-07-31\"],\n",
    "  bands=[\"SCL\"],\n",
    "  max_cloud_cover=30\n",
    ")"
   ]
  },
  {
   "cell_type": "code",
   "execution_count": 8,
   "id": "530b0470",
   "metadata": {},
   "outputs": [],
   "source": [
    "## Cloud Masking\n",
    "\n",
    "scl_band_2018 = S2_2018_cloudfree_scl.band(\"SCL\")\n",
    "cloud_mask_2018 = (scl_band_2018 == 3) | (scl_band_2018 == 8) | (scl_band_2018 == 9)\n",
    "\n",
    "scl_band_2021 = S2_2021_cloudfree_scl.band(\"SCL\")\n",
    "cloud_mask_2021 = (scl_band_2021 == 3) | (scl_band_2021 == 8) | (scl_band_2021 == 9)\n",
    "\n",
    "scl_band_2023 = S2_2023_cloudfree_scl.band(\"SCL\")\n",
    "cloud_mask_2023 = (scl_band_2023 == 3) | (scl_band_2023 == 8) | (scl_band_2023 == 9)"
   ]
  },
  {
   "cell_type": "code",
   "execution_count": 9,
   "id": "f7b572e0",
   "metadata": {},
   "outputs": [],
   "source": [
    "# Masking Cloud in datacubes \n",
    "\n",
    "#cloud_mask_2018 = cloud_mask_2018.resample_cube_spatial(S2_2018_cloudfree)\n",
    "cube_masked_2018 = S2_2018_cloudfree.mask(cloud_mask_2018)\n",
    "\n",
    "#cloud_mask_2021 = cloud_mask_2021.resample_cube_spatial(S2_2021_cloudfree)\n",
    "cube_masked_2021 = S2_2021_cloudfree.mask(cloud_mask_2021)\n",
    "\n",
    "cube_masked_2023 = S2_2023_cloudfree.mask(cloud_mask_2023)"
   ]
  },
  {
   "cell_type": "markdown",
   "id": "41f8ca4e",
   "metadata": {},
   "source": [
    "## Obtaining VIs and Monthly Compositing:\n",
    "***\n",
    "<div align=\"justify\"> The random forest models are trained by monthly composites of VIs time series. Thus, monthly composites of Sentinel-2 images are provided for each month. Indeed, all available images of an AOI are composited using the median metric. Four indices, namely Normalized Difference Vegetation Index (NDVI), Normalized Difference Moisture Index (NDMI), Normalized Difference Red Edge (NDRE), and Green Normalized Difference Vegetation Index (GNDVI) were computed for each monthly composite, along with their median and maximum values of every time series (Equations 1- 4). NDVI= (NIR-Red)/(NIR+Red) (1) NDMI= (NIR-SWIR)/(NIR+SWIR) (2) NDRE= (NIR-RE)/(NIR+RE) (3) GNDVI= (NIR-Green)/(NIR+Green) (4) Where NIR, Red, SWIR, RE, and Green stand for the spectral reflectance acquired in near-infrared, red, short-wave infrared, red edge, and green domains, corresponding to Band 08, B04, B11, B05, and B03 Sentinel-2 bands. To do so, first a function is used to keep the desirable bands as it is in datacubes. It is important to update the numerator of range function updated regarding the number of months of the year that already accessed through datacubes. In this case, since the datacubes are prepared for 6 months, the function is range (6).\n",
    "</div>\n",
    "\n",
    "***"
   ]
  },
  {
   "cell_type": "code",
   "execution_count": 10,
   "id": "713092f4",
   "metadata": {},
   "outputs": [],
   "source": [
    "# This function is for renaming the bands after compositing\n",
    "\n",
    "def timesteps_as_bands(base_features):\n",
    "    band_names = [band + \"_m\" + str(i+1) for band in base_features.metadata.band_names for i in range(6)]\n",
    "    result =  base_features.apply_dimension(\n",
    "        dimension='t',\n",
    "        target_dimension='bands',\n",
    "        process=lambda d: eop.array_create(data=d)\n",
    "    )\n",
    "    return result.rename_labels('bands', band_names)"
   ]
  },
  {
   "cell_type": "code",
   "execution_count": 11,
   "id": "11341dab",
   "metadata": {},
   "outputs": [],
   "source": [
    "# Spectral indexes:\n",
    "idx_list = [\"NDVI\",\"NDMI\",\"NDRE1\", \"GNDVI\"]\n",
    "S2_VIs_2018 = opc.compute_indices(cube_masked_2018, idx_list).filter_bands(idx_list)\n",
    "\n",
    "# Monthly mosaics:\n",
    "S2_2018_monthly = S2_VIs_2018.aggregate_temporal_period(\"month\",reducer=\"median\")\\\n",
    "    .apply_dimension(dimension=\"t\", process=\"array_interpolate_linear\")\n",
    "\n",
    "S2_2018_monthly_bands = timesteps_as_bands(S2_2018_monthly)\n",
    "\n",
    "# max and median of monthly composites:\n",
    "max_S2_2018 = S2_2018_monthly.reduce_dimension(dimension=\"t\", reducer=\"max\")\n",
    "max_S2_2018 = max_S2_2018.rename_labels(\"bands\", [x + \"_max\" for x in idx_list])\n",
    "\n",
    "median_S2_2018 = S2_2018_monthly.reduce_dimension(dimension=\"t\", reducer=\"median\")\n",
    "median_S2_2018 = median_S2_2018.rename_labels(\"bands\", [x + \"_median\" for x in idx_list])\n",
    "\n",
    "# Merging inputs:\n",
    "S2_2018_input = S2_2018_monthly_bands.merge_cubes(max_S2_2018).merge_cubes(median_S2_2018)\n",
    "\n",
    "# Croplands masking:\n",
    "S2_2018_input_crop = S2_2018_input.mask(cropland_mask.max_time())"
   ]
  },
  {
   "cell_type": "code",
   "execution_count": 12,
   "id": "cbb8774d",
   "metadata": {},
   "outputs": [],
   "source": [
    "S2_VIs_2021 = opc.compute_indices(cube_masked_2021, idx_list).filter_bands(idx_list)\n",
    "\n",
    "# Monthly mosaics:\n",
    "S2_2021_monthly = S2_VIs_2021.aggregate_temporal_period(\"month\",reducer=\"median\")\\\n",
    "    .apply_dimension(dimension=\"t\", process=\"array_interpolate_linear\")\n",
    "\n",
    "S2_2021_monthly_bands = timesteps_as_bands(S2_2021_monthly)\n",
    "\n",
    "# max and median of monthly composites:\n",
    "max_S2_2021 = S2_2021_monthly.reduce_dimension(dimension=\"t\", reducer=\"max\")\n",
    "max_S2_2021 = max_S2_2021.rename_labels(\"bands\", [x + \"_max\" for x in idx_list])\n",
    "\n",
    "median_S2_2021 = S2_2021_monthly.reduce_dimension(dimension=\"t\", reducer=\"median\")\n",
    "median_S2_2021 = median_S2_2021.rename_labels(\"bands\", [x + \"_median\" for x in idx_list])\n",
    "\n",
    "# Merging inputs:\n",
    "S2_2021_input = S2_2021_monthly_bands.merge_cubes(max_S2_2021).merge_cubes(median_S2_2021)\n",
    "\n",
    "# Croplands masking:\n",
    "S2_2021_input_crop = S2_2021_input.mask(cropland_mask.max_time())"
   ]
  },
  {
   "cell_type": "code",
   "execution_count": 13,
   "id": "1b7ad6bd",
   "metadata": {},
   "outputs": [],
   "source": [
    "S2_VIs_2023 = opc.compute_indices(cube_masked_2023, idx_list).filter_bands(idx_list)\n",
    "\n",
    "# Monthly mosaics:\n",
    "S2_2023_monthly = S2_VIs_2023.aggregate_temporal_period(\"month\",reducer=\"median\")\\\n",
    "    .apply_dimension(dimension=\"t\", process=\"array_interpolate_linear\")\n",
    "\n",
    "S2_2023_monthly_bands = timesteps_as_bands(S2_2023_monthly)\n",
    "\n",
    "# max and median of monthly composites:\n",
    "max_S2_2023 = S2_2023_monthly.reduce_dimension(dimension=\"t\", reducer=\"max\")\n",
    "max_S2_2023 = max_S2_2023.rename_labels(\"bands\", [x + \"_max\" for x in idx_list])\n",
    "\n",
    "median_S2_2023 = S2_2023_monthly.reduce_dimension(dimension=\"t\", reducer=\"median\")\n",
    "median_S2_2023 = median_S2_2023.rename_labels(\"bands\", [x + \"_median\" for x in idx_list])\n",
    "\n",
    "# Merging inputs:\n",
    "S2_2023_input = S2_2023_monthly_bands.merge_cubes(max_S2_2023).merge_cubes(median_S2_2023)\n",
    "\n",
    "# Croplands masking:\n",
    "S2_2023_input_crop = S2_2023_input.mask(cropland_mask.max_time())"
   ]
  },
  {
   "cell_type": "markdown",
   "id": "bc843b83",
   "metadata": {},
   "source": [
    "## Sampling and Labeling pixels:\n",
    "***\n",
    "<div align=\"justify\">Following the stratification and identification of two seasons, the time series are filtered by identifying local temporal anomalies based on consecutive VI observations. This step is needed for filtering the time series used for training by identifying the time series that have abnormally low values during the growing season, which can indicate the drought signal. Finally, two classes of drought affected and unaffected are separated for each season considering the drought years and the stratification.\n",
    "</div>\n",
    "\n",
    "***"
   ]
  },
  {
   "cell_type": "code",
   "execution_count": 14,
   "id": "2293f1cd",
   "metadata": {},
   "outputs": [],
   "source": [
    "# The input data for Random Forest model are provided from these points\n",
    "\n",
    "feature_collection_1 = {\n",
    "\"type\": \"FeatureCollection\",\n",
    "\"features\": [\n",
    "{ \"type\": \"Feature\", \"properties\": { \"id\": \"0\", \"target\": 1 }, \"geometry\": { \"type\": \"Point\", \"coordinates\": [ 34.203184342437794, 0.460514584553452 ] } },\n",
    "{ \"type\": \"Feature\", \"properties\": { \"id\": \"8\", \"target\": 1 }, \"geometry\": { \"type\": \"Point\", \"coordinates\": [ 34.152018598099815, 0.517401543917696 ] } },\n",
    "{ \"type\": \"Feature\", \"properties\": { \"id\": \"16\", \"target\": 1 }, \"geometry\": { \"type\": \"Point\", \"coordinates\": [ 34.330016747921889, 0.461704466245092 ] } },\n",
    "{ \"type\": \"Feature\", \"properties\": { \"id\": \"25\", \"target\": 1 }, \"geometry\": { \"type\": \"Point\", \"coordinates\": [ 34.236670683314571, 0.392939934048492 ] } },\n",
    "{ \"type\": \"Feature\", \"properties\": { \"id\": \"27\", \"target\": 1 }, \"geometry\": { \"type\": \"Point\", \"coordinates\": [ 34.376406492958139, 0.402953649490773 ] } },\n",
    "{ \"type\": \"Feature\", \"properties\": { \"id\": \"31\", \"target\": 1 }, \"geometry\": { \"type\": \"Point\", \"coordinates\": [ 34.28065882466602, 0.441031598236763 ] } },\n",
    "{ \"type\": \"Feature\", \"properties\": { \"id\": \"33\", \"target\": 1 }, \"geometry\": { \"type\": \"Point\", \"coordinates\": [ 34.283828304516142, 0.354866980516461 ] } },\n",
    "{ \"type\": \"Feature\", \"properties\": { \"id\": \"38\", \"target\": 1 }, \"geometry\": { \"type\": \"Point\", \"coordinates\": [ 34.306683589319491, 0.383615256191816 ] } },\n",
    "{ \"type\": \"Feature\", \"properties\": { \"id\": \"44\", \"target\": 1 }, \"geometry\": { \"type\": \"Point\", \"coordinates\": [ 34.165752769684445, 0.530697556404711 ] } },\n",
    "{ \"type\": \"Feature\", \"properties\": { \"id\": \"47\", \"target\": 1 }, \"geometry\": { \"type\": \"Point\", \"coordinates\": [ 34.296551649307396, 0.455437536938365 ] } },\n",
    "{ \"type\": \"Feature\", \"properties\": { \"id\": \"51\", \"target\": 1 }, \"geometry\": { \"type\": \"Point\", \"coordinates\": [ 34.28828682957333, 0.345953160309388 ] } },\n",
    "{ \"type\": \"Feature\", \"properties\": { \"id\": \"61\", \"target\": 1 }, \"geometry\": { \"type\": \"Point\", \"coordinates\": [ 34.173492154409239, 0.441993477047859 ] } },\n",
    "{ \"type\": \"Feature\", \"properties\": { \"id\": \"63\", \"target\": 1 }, \"geometry\": { \"type\": \"Point\", \"coordinates\": [ 34.29740461036009, 0.48866743820632 ] } },\n",
    "{ \"type\": \"Feature\", \"properties\": { \"id\": \"64\", \"target\": 1 }, \"geometry\": { \"type\": \"Point\", \"coordinates\": [ 34.262062080996593, 0.462775045374474 ] } },\n",
    "{ \"type\": \"Feature\", \"properties\": { \"id\": \"75\", \"target\": 1 }, \"geometry\": { \"type\": \"Point\", \"coordinates\": [ 34.170053551467959, 0.420915895336691 ] } },\n",
    "{ \"type\": \"Feature\", \"properties\": { \"id\": \"76\", \"target\": 1 }, \"geometry\": { \"type\": \"Point\", \"coordinates\": [ 34.21177438408106, 0.409391689331131 ] } },\n",
    "{ \"type\": \"Feature\", \"properties\": { \"id\": \"85\", \"target\": 1 }, \"geometry\": { \"type\": \"Point\", \"coordinates\": [ 34.255160660807562, 0.369532369366169 ] } },\n",
    "{ \"type\": \"Feature\", \"properties\": { \"id\": \"91\", \"target\": 1 }, \"geometry\": { \"type\": \"Point\", \"coordinates\": [ 34.251605122064596, 0.493810416666503 ] } },\n",
    "{ \"type\": \"Feature\", \"properties\": { \"id\": \"108\", \"target\": 1 }, \"geometry\": { \"type\": \"Point\", \"coordinates\": [ 34.360108162846544, 0.37939473081818 ] } },\n",
    "{ \"type\": \"Feature\", \"properties\": { \"id\": \"116\", \"target\": 1 }, \"geometry\": { \"type\": \"Point\", \"coordinates\": [ 34.194331360938584, 0.477983521566274 ] } },\n",
    "{ \"type\": \"Feature\", \"properties\": { \"id\": \"117\", \"target\": 1 }, \"geometry\": { \"type\": \"Point\", \"coordinates\": [ 34.204340460156232, 0.341423595202055 ] } },\n",
    "{ \"type\": \"Feature\", \"properties\": { \"id\": \"132\", \"target\": 1 }, \"geometry\": { \"type\": \"Point\", \"coordinates\": [ 34.178856058610869, 0.408510718012493 ] } },\n",
    "{ \"type\": \"Feature\", \"properties\": { \"id\": \"135\", \"target\": 1 }, \"geometry\": { \"type\": \"Point\", \"coordinates\": [ 34.27487831260153, 0.379761030899556 ] } },\n",
    "{ \"type\": \"Feature\", \"properties\": { \"id\": \"143\", \"target\": 1 }, \"geometry\": { \"type\": \"Point\", \"coordinates\": [ 34.263522619073619, 0.390505929509526 ] } },\n",
    "{ \"type\": \"Feature\", \"properties\": { \"id\": \"144\", \"target\": 1 }, \"geometry\": { \"type\": \"Point\", \"coordinates\": [ 34.352001910679235, 0.442571642082511 ] } },\n",
    "{ \"type\": \"Feature\", \"properties\": { \"id\": \"173\", \"target\": 1 }, \"geometry\": { \"type\": \"Point\", \"coordinates\": [ 34.169676857292664, 0.505626226661718 ] } },\n",
    "{ \"type\": \"Feature\", \"properties\": { \"id\": \"178\", \"target\": 1 }, \"geometry\": { \"type\": \"Point\", \"coordinates\": [ 34.16027063457512, 0.475492240796707 ] } },\n",
    "{ \"type\": \"Feature\", \"properties\": { \"id\": \"180\", \"target\": 1 }, \"geometry\": { \"type\": \"Point\", \"coordinates\": [ 34.22713382220477, 0.408796110029496 ] } }\n",
    "]\n",
    "}"
   ]
  },
  {
   "cell_type": "code",
   "execution_count": 15,
   "id": "a3ddbb45",
   "metadata": {},
   "outputs": [],
   "source": [
    "feature_collection_2 = {\n",
    "\"type\": \"FeatureCollection\",\n",
    "\"features\": [\n",
    "{ \"type\": \"Feature\", \"properties\": { \"id\": \"185\", \"target\": 2 }, \"geometry\": { \"type\": \"Point\", \"coordinates\": [ 34.184432687408346, 0.395869509874709 ] } },\n",
    "{ \"type\": \"Feature\", \"properties\": { \"id\": \"186\", \"target\": 2 }, \"geometry\": { \"type\": \"Point\", \"coordinates\": [ 34.222537421144196, 0.420468973607811 ] } },\n",
    "{ \"type\": \"Feature\", \"properties\": { \"id\": \"201\", \"target\": 2 }, \"geometry\": { \"type\": \"Point\", \"coordinates\": [ 34.19298663520955, 0.408678752413399 ] } },\n",
    "{ \"type\": \"Feature\", \"properties\": { \"id\": \"202\", \"target\": 2 }, \"geometry\": { \"type\": \"Point\", \"coordinates\": [ 34.204321644106749, 0.504734353650511 ] } },\n",
    "{ \"type\": \"Feature\", \"properties\": { \"id\": \"203\", \"target\": 2 }, \"geometry\": { \"type\": \"Point\", \"coordinates\": [ 34.243886674645431, 0.351766436121244 ] } },\n",
    "{ \"type\": \"Feature\", \"properties\": { \"id\": \"208\", \"target\": 2 }, \"geometry\": { \"type\": \"Point\", \"coordinates\": [ 34.368171346280718, 0.330010869814071 ] } },\n",
    "{ \"type\": \"Feature\", \"properties\": { \"id\": \"213\", \"target\": 2 }, \"geometry\": { \"type\": \"Point\", \"coordinates\": [ 34.360854718961221, 0.42453001421272 ] } },\n",
    "{ \"type\": \"Feature\", \"properties\": { \"id\": \"223\", \"target\": 2 }, \"geometry\": { \"type\": \"Point\", \"coordinates\": [ 34.320784927170095, 0.32897391233948 ] } },\n",
    "{ \"type\": \"Feature\", \"properties\": { \"id\": \"224\", \"target\": 2 }, \"geometry\": { \"type\": \"Point\", \"coordinates\": [ 34.205402383659134, 0.346072604698638 ] } },\n",
    "{ \"type\": \"Feature\", \"properties\": { \"id\": \"229\", \"target\": 2 }, \"geometry\": { \"type\": \"Point\", \"coordinates\": [ 34.153746419610599, 0.45305147673928 ] } },\n",
    "{ \"type\": \"Feature\", \"properties\": { \"id\": \"240\", \"target\": 2 }, \"geometry\": { \"type\": \"Point\", \"coordinates\": [ 34.255834968435543, 0.501130473540342 ] } },\n",
    "{ \"type\": \"Feature\", \"properties\": { \"id\": \"242\", \"target\": 2 }, \"geometry\": { \"type\": \"Point\", \"coordinates\": [ 34.282849552987237, 0.424609135151205 ] } },\n",
    "{ \"type\": \"Feature\", \"properties\": { \"id\": \"243\", \"target\": 2 }, \"geometry\": { \"type\": \"Point\", \"coordinates\": [ 34.261054045577147, 0.463863168583195 ] } },\n",
    "{ \"type\": \"Feature\", \"properties\": { \"id\": \"244\", \"target\": 2 }, \"geometry\": { \"type\": \"Point\", \"coordinates\": [ 34.162249811275025, 0.446311522710265 ] } },\n",
    "{ \"type\": \"Feature\", \"properties\": { \"id\": \"247\", \"target\": 2 }, \"geometry\": { \"type\": \"Point\", \"coordinates\": [ 34.213971398941744, 0.378744286652057 ] } },\n",
    "{ \"type\": \"Feature\", \"properties\": { \"id\": \"255\", \"target\": 2 }, \"geometry\": { \"type\": \"Point\", \"coordinates\": [ 34.238735337051921, 0.477067468481004 ] } },\n",
    "{ \"type\": \"Feature\", \"properties\": { \"id\": \"256\", \"target\": 2 }, \"geometry\": { \"type\": \"Point\", \"coordinates\": [ 34.178193997209611, 0.484804343157599 ] } },\n",
    "{ \"type\": \"Feature\", \"properties\": { \"id\": \"262\", \"target\": 2 }, \"geometry\": { \"type\": \"Point\", \"coordinates\": [ 34.205865964383577, 0.452896142813873 ] } },\n",
    "{ \"type\": \"Feature\", \"properties\": { \"id\": \"263\", \"target\": 2 }, \"geometry\": { \"type\": \"Point\", \"coordinates\": [ 34.32624393853817, 0.485830920302758 ] } },\n",
    "{ \"type\": \"Feature\", \"properties\": { \"id\": \"269\", \"target\": 2 }, \"geometry\": { \"type\": \"Point\", \"coordinates\": [ 34.258057165929657, 0.384413297809512 ] } },\n",
    "{ \"type\": \"Feature\", \"properties\": { \"id\": \"272\", \"target\": 2 }, \"geometry\": { \"type\": \"Point\", \"coordinates\": [ 34.281979042580943, 0.346460798076213 ] } },\n",
    "{ \"type\": \"Feature\", \"properties\": { \"id\": \"274\", \"target\": 2 }, \"geometry\": { \"type\": \"Point\", \"coordinates\": [ 34.236275720048269, 0.380456701041156 ] } },\n",
    "{ \"type\": \"Feature\", \"properties\": { \"id\": \"280\", \"target\": 2 }, \"geometry\": { \"type\": \"Point\", \"coordinates\": [ 34.346971362497136, 0.422618498674465 ] } },\n",
    "{ \"type\": \"Feature\", \"properties\": { \"id\": \"284\", \"target\": 2 }, \"geometry\": { \"type\": \"Point\", \"coordinates\": [ 34.251922842839157, 0.339322982170076 ] } },\n",
    "{ \"type\": \"Feature\", \"properties\": { \"id\": \"286\", \"target\": 2 }, \"geometry\": { \"type\": \"Point\", \"coordinates\": [ 34.271830921513974, 0.450899982974466 ] } },\n",
    "{ \"type\": \"Feature\", \"properties\": { \"id\": \"290\", \"target\": 2 }, \"geometry\": { \"type\": \"Point\", \"coordinates\": [ 34.200493897479902, 0.500341759182298 ] } },\n",
    "{ \"type\": \"Feature\", \"properties\": { \"id\": \"292\", \"target\": 2 }, \"geometry\": { \"type\": \"Point\", \"coordinates\": [ 34.320206575527585, 0.448373628014201 ] } },\n",
    "{ \"type\": \"Feature\", \"properties\": { \"id\": \"296\", \"target\": 2 }, \"geometry\": { \"type\": \"Point\", \"coordinates\": [ 34.186677877762925, 0.469702381186285 ] } }\n",
    "]\n",
    "}"
   ]
  },
  {
   "cell_type": "code",
   "execution_count": 23,
   "id": "e757bd6a",
   "metadata": {},
   "outputs": [],
   "source": [
    "# Predictors for the random forest model from two different years\n",
    "\n",
    "predictors_1 = S2_2018_input_crop.aggregate_spatial(feature_collection_1, reducer=\"mean\")\n",
    "predictors_2 = S2_2021_input_crop.aggregate_spatial(feature_collection_2, reducer=\"mean\")"
   ]
  },
  {
   "cell_type": "code",
   "execution_count": 24,
   "id": "dc82aa29",
   "metadata": {},
   "outputs": [],
   "source": [
    "predictors_1.download(\"predictors_1_v5.csv\")\n",
    "predictors_2.download(\"predictors_2_v5.csv\")"
   ]
  },
  {
   "cell_type": "markdown",
   "id": "657dde9d",
   "metadata": {},
   "source": [
    "***\n",
    "    It is worth noting that the predictors data are saved as csv files to play as machine learning input data,\n",
    "    which should run locally in a Python environment out of CDSE JupyterHub."
   ]
  },
  {
   "cell_type": "markdown",
   "id": "7df006e3",
   "metadata": {},
   "source": [
    "\n",
    "\n",
    "## Classification and performance assessment:\n",
    "\n",
    "\n",
    "***\n",
    "<div align=\"justify\">The input data is partitioned into training and testing sets using a 70/30 split ratio. Random forest models are trained for each Agro-ecological Zone (AEZ). Finally, the performance of the trained model is assessed by the confusion matrix and overall accuracy over the test data.\n",
    "    Since the model is trained out of openEO, it is saved and imported to openEO. The model is uploaded in ADM-Kenya website and it is possible to upload to GitHub. In the next step, we need to read the model from “model_url”. Afterwards, the target datacube will be predicted using the trained model:\n",
    "</div>\n"
   ]
  },
  {
   "cell_type": "code",
   "execution_count": 73,
   "id": "e3ea03d8",
   "metadata": {},
   "outputs": [
    {
     "data": {
      "text/plain": [
       "Index(['feature_index', 'NDVI_m1', 'NDVI_m2', 'NDVI_m3', 'NDVI_m4', 'NDVI_m5',\n",
       "       'NDVI_m6', 'NDMI_m1', 'NDMI_m2', 'NDMI_m3', 'NDMI_m4', 'NDMI_m5',\n",
       "       'NDMI_m6', 'NDRE1_m1', 'NDRE1_m2', 'NDRE1_m3', 'NDRE1_m4', 'NDRE1_m5',\n",
       "       'NDRE1_m6', 'GNDVI_m1', 'GNDVI_m2', 'GNDVI_m3', 'GNDVI_m4', 'GNDVI_m5',\n",
       "       'GNDVI_m6', 'NDVI_max', 'NDMI_max', 'NDRE1_max', 'GNDVI_max',\n",
       "       'NDVI_median', 'NDMI_median', 'NDRE1_median', 'GNDVI_median', 'label'],\n",
       "      dtype='object')"
      ]
     },
     "execution_count": 73,
     "metadata": {},
     "output_type": "execute_result"
    }
   ],
   "source": [
    "# The predictors can be saved in the default jupyter notebook directory, and read as pandas dataframe\n",
    "\n",
    "df_1 = pd.read_csv(\"predictors_1_v5.csv\", index_col=False)\n",
    "df_1[\"label\"] = 1\n",
    "\n",
    "df_2 = pd.read_csv(\"predictors_2_v5.csv\", index_col=False)\n",
    "df_2[\"label\"] = 2\n",
    "\n",
    "# Merging the predictors, including their labels:\n",
    "\n",
    "df = pd.concat([df_1,df_2])\n",
    "df.columns"
   ]
  },
  {
   "cell_type": "markdown",
   "id": "365a6b2b",
   "metadata": {},
   "source": [
    "## Preparing the train and test tuples"
   ]
  },
  {
   "cell_type": "code",
   "execution_count": 77,
   "id": "9f6c5292",
   "metadata": {},
   "outputs": [],
   "source": [
    "# Filling the nan values with the mean\n",
    "df = df.fillna(df.mean())\n",
    "\n",
    "# Preparing the train and test tuples\n",
    "\n",
    "X = df.drop(columns=[\"feature_index\", \"label\"])\n",
    "X = X.astype(np.float32) # convert to float32 to allow ONNX conversion later on\n",
    "y = df['label'].astype(int)\n",
    "\n",
    "X_train, X_test, y_train, y_test = train_test_split(X, y, test_size=0.3, random_state=42)"
   ]
  },
  {
   "cell_type": "markdown",
   "id": "02947b23",
   "metadata": {},
   "source": [
    "## Training and Testing"
   ]
  },
  {
   "cell_type": "code",
   "execution_count": null,
   "id": "cabc630b",
   "metadata": {},
   "outputs": [],
   "source": [
    "# Training\n",
    "\n",
    "rf = RandomForestClassifier(n_estimators=100, max_features=y.unique().size, random_state=42)\n",
    "rf = rf.fit(X_train, y_train)\n",
    "\n",
    "# Testing\n",
    "\n",
    "y_pred = rf.predict(X_test)\n",
    "print(\"Accuracy on test set: \"+str(accuracy_score(y_test,y_pred))[0:5])"
   ]
  },
  {
   "cell_type": "code",
   "execution_count": 80,
   "id": "d0f12a88",
   "metadata": {},
   "outputs": [],
   "source": [
    "# Saving the model\n",
    "\n",
    "onnx = to_onnx(model=rf, name=\"random_forest\", X=X_train.values)\n",
    "\n",
    "with open(\"random_forest_9.onnx\", \"wb\") as f:\n",
    "    f.write(onnx.SerializeToString())"
   ]
  },
  {
   "cell_type": "markdown",
   "id": "05292196",
   "metadata": {},
   "source": [
    "## Model Implementation"
   ]
  },
  {
   "cell_type": "code",
   "execution_count": 16,
   "id": "a7d4501d",
   "metadata": {},
   "outputs": [
    {
     "name": "stderr",
     "output_type": "stream",
     "text": [
      "Preflight process graph validation failed: [500] Internal: Server error: TypeError(\"can't subtract offset-naive and offset-aware datetimes\") (ref: r-24082899bc9843d1bb56c89c5c782651)\n"
     ]
    },
    {
     "name": "stdout",
     "output_type": "stream",
     "text": [
      "0:00:00 Job 'j-240828d67a4345d79f1cd4571b181826': send 'start'\n",
      "0:00:14 Job 'j-240828d67a4345d79f1cd4571b181826': created (progress 0%)\n",
      "0:00:19 Job 'j-240828d67a4345d79f1cd4571b181826': created (progress 0%)\n",
      "0:00:25 Job 'j-240828d67a4345d79f1cd4571b181826': created (progress 0%)\n",
      "0:00:33 Job 'j-240828d67a4345d79f1cd4571b181826': created (progress 0%)\n",
      "0:00:43 Job 'j-240828d67a4345d79f1cd4571b181826': created (progress 0%)\n",
      "0:00:56 Job 'j-240828d67a4345d79f1cd4571b181826': created (progress 0%)\n",
      "0:01:11 Job 'j-240828d67a4345d79f1cd4571b181826': created (progress 0%)\n",
      "0:01:30 Job 'j-240828d67a4345d79f1cd4571b181826': running (progress N/A)\n",
      "0:01:54 Job 'j-240828d67a4345d79f1cd4571b181826': running (progress N/A)\n",
      "0:02:24 Job 'j-240828d67a4345d79f1cd4571b181826': running (progress N/A)\n",
      "0:03:02 Job 'j-240828d67a4345d79f1cd4571b181826': running (progress N/A)\n",
      "0:03:49 Job 'j-240828d67a4345d79f1cd4571b181826': running (progress N/A)\n",
      "0:04:47 Job 'j-240828d67a4345d79f1cd4571b181826': running (progress N/A)\n",
      "0:05:47 Job 'j-240828d67a4345d79f1cd4571b181826': running (progress N/A)\n",
      "0:06:47 Job 'j-240828d67a4345d79f1cd4571b181826': running (progress N/A)\n",
      "0:07:47 Job 'j-240828d67a4345d79f1cd4571b181826': running (progress N/A)\n",
      "0:08:48 Job 'j-240828d67a4345d79f1cd4571b181826': running (progress N/A)\n",
      "0:09:48 Job 'j-240828d67a4345d79f1cd4571b181826': finished (progress 100%)\n"
     ]
    },
    {
     "data": {
      "text/html": [
       "\n",
       "    <script>\n",
       "    if (!window.customElements || !window.customElements.get('openeo-job')) {\n",
       "        var el = document.createElement('script');\n",
       "        el.src = \"https://cdn.jsdelivr.net/npm/@openeo/vue-components@2/assets/openeo.min.js\";\n",
       "        document.head.appendChild(el);\n",
       "\n",
       "        var font = document.createElement('font');\n",
       "        font.as = \"font\";\n",
       "        font.type = \"font/woff2\";\n",
       "        font.crossOrigin = true;\n",
       "        font.href = \"https://use.fontawesome.com/releases/v5.13.0/webfonts/fa-solid-900.woff2\"\n",
       "        document.head.appendChild(font);\n",
       "    }\n",
       "    </script>\n",
       "    <openeo-job>\n",
       "        <script type=\"application/json\">{\"currency\": \"credits\", \"job\": {\"costs\": 6, \"created\": \"2024-08-28T09:48:01Z\", \"id\": \"j-240828d67a4345d79f1cd4571b181826\", \"process\": {\"process_graph\": {\"aggregatetemporalperiod1\": {\"arguments\": {\"data\": {\"from_node\": \"filterbands1\"}, \"period\": \"month\", \"reducer\": {\"process_graph\": {\"median1\": {\"arguments\": {\"data\": {\"from_parameter\": \"data\"}}, \"process_id\": \"median\", \"result\": true}}}}, \"process_id\": \"aggregate_temporal_period\"}, \"applydimension1\": {\"arguments\": {\"data\": {\"from_node\": \"mask1\"}, \"dimension\": \"bands\", \"process\": {\"process_graph\": {\"add1\": {\"arguments\": {\"x\": {\"from_node\": \"arrayelement2\"}, \"y\": {\"from_node\": \"arrayelement3\"}}, \"process_id\": \"add\"}, \"add2\": {\"arguments\": {\"x\": {\"from_node\": \"arrayelement2\"}, \"y\": {\"from_node\": \"arrayelement4\"}}, \"process_id\": \"add\"}, \"add3\": {\"arguments\": {\"x\": {\"from_node\": \"arrayelement2\"}, \"y\": {\"from_node\": \"arrayelement5\"}}, \"process_id\": \"add\"}, \"add4\": {\"arguments\": {\"x\": {\"from_node\": \"arrayelement2\"}, \"y\": {\"from_node\": \"arrayelement6\"}}, \"process_id\": \"add\"}, \"arraycreate1\": {\"arguments\": {\"data\": [{\"from_node\": \"divide1\"}, {\"from_node\": \"divide2\"}, {\"from_node\": \"divide3\"}, {\"from_node\": \"divide4\"}]}, \"process_id\": \"array_create\", \"result\": true}, \"arrayelement2\": {\"arguments\": {\"data\": {\"from_parameter\": \"data\"}, \"index\": 4}, \"process_id\": \"array_element\"}, \"arrayelement3\": {\"arguments\": {\"data\": {\"from_parameter\": \"data\"}, \"index\": 2}, \"process_id\": \"array_element\"}, \"arrayelement4\": {\"arguments\": {\"data\": {\"from_parameter\": \"data\"}, \"index\": 5}, \"process_id\": \"array_element\"}, \"arrayelement5\": {\"arguments\": {\"data\": {\"from_parameter\": \"data\"}, \"index\": 3}, \"process_id\": \"array_element\"}, \"arrayelement6\": {\"arguments\": {\"data\": {\"from_parameter\": \"data\"}, \"index\": 1}, \"process_id\": \"array_element\"}, \"divide1\": {\"arguments\": {\"x\": {\"from_node\": \"subtract1\"}, \"y\": {\"from_node\": \"add1\"}}, \"process_id\": \"divide\"}, \"divide2\": {\"arguments\": {\"x\": {\"from_node\": \"subtract2\"}, \"y\": {\"from_node\": \"add2\"}}, \"process_id\": \"divide\"}, \"divide3\": {\"arguments\": {\"x\": {\"from_node\": \"subtract3\"}, \"y\": {\"from_node\": \"add3\"}}, \"process_id\": \"divide\"}, \"divide4\": {\"arguments\": {\"x\": {\"from_node\": \"subtract4\"}, \"y\": {\"from_node\": \"add4\"}}, \"process_id\": \"divide\"}, \"subtract1\": {\"arguments\": {\"x\": {\"from_node\": \"arrayelement2\"}, \"y\": {\"from_node\": \"arrayelement3\"}}, \"process_id\": \"subtract\"}, \"subtract2\": {\"arguments\": {\"x\": {\"from_node\": \"arrayelement2\"}, \"y\": {\"from_node\": \"arrayelement4\"}}, \"process_id\": \"subtract\"}, \"subtract3\": {\"arguments\": {\"x\": {\"from_node\": \"arrayelement2\"}, \"y\": {\"from_node\": \"arrayelement5\"}}, \"process_id\": \"subtract\"}, \"subtract4\": {\"arguments\": {\"x\": {\"from_node\": \"arrayelement2\"}, \"y\": {\"from_node\": \"arrayelement6\"}}, \"process_id\": \"subtract\"}}}}, \"process_id\": \"apply_dimension\"}, \"applydimension2\": {\"arguments\": {\"data\": {\"from_node\": \"aggregatetemporalperiod1\"}, \"dimension\": \"t\", \"process\": {\"process_graph\": {\"arrayinterpolatelinear1\": {\"arguments\": {\"data\": {\"from_parameter\": \"data\"}}, \"process_id\": \"array_interpolate_linear\", \"result\": true}}}}, \"process_id\": \"apply_dimension\"}, \"applydimension3\": {\"arguments\": {\"data\": {\"from_node\": \"applydimension2\"}, \"dimension\": \"t\", \"process\": {\"process_graph\": {\"arraycreate2\": {\"arguments\": {\"data\": {\"from_parameter\": \"data\"}}, \"process_id\": \"array_create\", \"result\": true}}}, \"target_dimension\": \"bands\"}, \"process_id\": \"apply_dimension\"}, \"filterbands1\": {\"arguments\": {\"bands\": [\"NDVI\", \"NDMI\", \"NDRE1\", \"GNDVI\"], \"data\": {\"from_node\": \"renamelabels1\"}}, \"process_id\": \"filter_bands\"}, \"loadcollection1\": {\"arguments\": {\"bands\": [\"B02\", \"B03\", \"B04\", \"B05\", \"B08\", \"B11\"], \"id\": \"SENTINEL2_L2A\", \"properties\": {\"eo:cloud_cover\": {\"process_graph\": {\"lte1\": {\"arguments\": {\"x\": {\"from_parameter\": \"value\"}, \"y\": 30}, \"process_id\": \"lte\", \"result\": true}}}}, \"spatial_extent\": {\"east\": 34.447, \"north\": 0.769, \"south\": 0.658, \"west\": 34.282}, \"temporal_extent\": [\"2023-02-01\", \"2023-07-31\"]}, \"process_id\": \"load_collection\"}, \"loadcollection2\": {\"arguments\": {\"bands\": [\"SCL\"], \"id\": \"SENTINEL2_L2A\", \"properties\": {\"eo:cloud_cover\": {\"process_graph\": {\"lte2\": {\"arguments\": {\"x\": {\"from_parameter\": \"value\"}, \"y\": 30}, \"process_id\": \"lte\", \"result\": true}}}}, \"spatial_extent\": {\"east\": 34.447, \"north\": 0.769, \"south\": 0.658, \"west\": 34.282}, \"temporal_extent\": [\"2023-02-01\", \"2023-07-31\"]}, \"process_id\": \"load_collection\"}, \"loadcollection3\": {\"arguments\": {\"bands\": [\"MAP\"], \"id\": \"ESA_WORLDCOVER_10M_2021_V2\", \"spatial_extent\": {\"east\": 34.447, \"north\": 0.769, \"south\": 0.658, \"west\": 34.282}, \"temporal_extent\": [\"2000-01-01\", \"2024-01-01\"]}, \"process_id\": \"load_collection\"}, \"mask1\": {\"arguments\": {\"data\": {\"from_node\": \"loadcollection1\"}, \"mask\": {\"from_node\": \"reducedimension1\"}}, \"process_id\": \"mask\"}, \"mask2\": {\"arguments\": {\"data\": {\"from_node\": \"mergecubes2\"}, \"mask\": {\"from_node\": \"reducedimension5\"}}, \"process_id\": \"mask\"}, \"mergecubes1\": {\"arguments\": {\"cube1\": {\"from_node\": \"renamelabels2\"}, \"cube2\": {\"from_node\": \"renamelabels3\"}}, \"process_id\": \"merge_cubes\"}, \"mergecubes2\": {\"arguments\": {\"cube1\": {\"from_node\": \"mergecubes1\"}, \"cube2\": {\"from_node\": \"renamelabels4\"}}, \"process_id\": \"merge_cubes\"}, \"reducedimension1\": {\"arguments\": {\"data\": {\"from_node\": \"loadcollection2\"}, \"dimension\": \"bands\", \"reducer\": {\"process_graph\": {\"arrayelement1\": {\"arguments\": {\"data\": {\"from_parameter\": \"data\"}, \"index\": 0}, \"process_id\": \"array_element\"}, \"eq1\": {\"arguments\": {\"x\": {\"from_node\": \"arrayelement1\"}, \"y\": 3}, \"process_id\": \"eq\"}, \"eq2\": {\"arguments\": {\"x\": {\"from_node\": \"arrayelement1\"}, \"y\": 8}, \"process_id\": \"eq\"}, \"eq3\": {\"arguments\": {\"x\": {\"from_node\": \"arrayelement1\"}, \"y\": 9}, \"process_id\": \"eq\"}, \"or1\": {\"arguments\": {\"x\": {\"from_node\": \"eq1\"}, \"y\": {\"from_node\": \"eq2\"}}, \"process_id\": \"or\"}, \"or2\": {\"arguments\": {\"x\": {\"from_node\": \"or1\"}, \"y\": {\"from_node\": \"eq3\"}}, \"process_id\": \"or\", \"result\": true}}}}, \"process_id\": \"reduce_dimension\"}, \"reducedimension2\": {\"arguments\": {\"data\": {\"from_node\": \"applydimension2\"}, \"dimension\": \"t\", \"reducer\": {\"process_graph\": {\"max1\": {\"arguments\": {\"data\": {\"from_parameter\": \"data\"}}, \"process_id\": \"max\", \"result\": true}}}}, \"process_id\": \"reduce_dimension\"}, \"reducedimension3\": {\"arguments\": {\"data\": {\"from_node\": \"applydimension2\"}, \"dimension\": \"t\", \"reducer\": {\"process_graph\": {\"median2\": {\"arguments\": {\"data\": {\"from_parameter\": \"data\"}}, \"process_id\": \"median\", \"result\": true}}}}, \"process_id\": \"reduce_dimension\"}, \"reducedimension4\": {\"arguments\": {\"data\": {\"from_node\": \"loadcollection3\"}, \"dimension\": \"bands\", \"reducer\": {\"process_graph\": {\"arrayelement7\": {\"arguments\": {\"data\": {\"from_parameter\": \"data\"}, \"index\": 0}, \"process_id\": \"array_element\"}, \"neq1\": {\"arguments\": {\"x\": {\"from_node\": \"arrayelement7\"}, \"y\": 40}, \"process_id\": \"neq\", \"result\": true}}}}, \"process_id\": \"reduce_dimension\"}, \"reducedimension5\": {\"arguments\": {\"data\": {\"from_node\": \"reducedimension4\"}, \"dimension\": \"t\", \"reducer\": {\"process_graph\": {\"max2\": {\"arguments\": {\"data\": {\"from_parameter\": \"data\"}}, \"process_id\": \"max\", \"result\": true}}}}, \"process_id\": \"reduce_dimension\"}, \"reducedimension6\": {\"arguments\": {\"data\": {\"from_node\": \"mask2\"}, \"dimension\": \"bands\", \"reducer\": {\"process_graph\": {\"runudf1\": {\"arguments\": {\"context\": {\"model_url\": \"https://data.admkenya.eu/random_forest_7.onnx\"}, \"data\": {\"from_parameter\": \"data\"}, \"runtime\": \"Python\", \"udf\": \"import functools\\nimport sys\\nfrom typing import Dict\\nimport numpy as np\\nimport xarray as xr\\nfrom openeo.udf import inspect\\nimport requests\\n\\n# Import the onnxruntime package from the onnx_deps directory\\nsys.path.insert(0, \\\"onnx_deps\\\")\\nimport onnxruntime as ort\\n\\n@functools.lru_cache(maxsize=6)\\ndef _load_ort_session(model_url: str):\\n    \\\"\\\"\\\"\\n    Load the models and make the prediction functions.\\n    The lru_cache avoids loading the model multiple times on the same worker.\\n    \\\"\\\"\\\"\\n    inspect(message=f\\\"Loading random forrest as ONNX runtime session ...\\\")\\n    response = requests.get(model_url)\\n    model = response.content\\n    inspect(message=f\\\"Model loaded from {model_url}\\\", level=\\\"debug\\\")\\n    return ort.InferenceSession(model)\\n\\ndef _apply_ml(tensor : np.ndarray, session: ort.InferenceSession, input_name) -> np.ndarray:\\n    \\\"\\\"\\\"\\n    Apply the model to a tensor containing features.\\n    \\\"\\\"\\\"\\n    tensor = tensor.reshape((1,) + tensor.shape)\\n    return session.run(None, {input_name: tensor})[0]\\n    \\n\\ndef apply_datacube(cube: xr.DataArray, context: Dict) -> xr.DataArray:\\n    \\\"\\\"\\\"\\n    Apply the model to the datacube.\\n    \\\"\\\"\\\"\\n    # Load the model\\n    session = _load_ort_session(context.get(\\\"model_url\\\", None))\\n    input_name=session.get_inputs()[0].name\\n\\n    # Prepare the input\\n    input_data = cube.values.astype(np.float32)\\n\\n    # Make the prediction\\n    output = np.apply_along_axis(lambda x: _apply_ml(x, session, input_name), axis=0, arr=input_data)\\n\\n    # Prepare the output\\n    output = output.reshape(cube.shape[1:])\\n    return xr.DataArray(output).astype(\\\"uint8\\\")\\n\\n\"}, \"process_id\": \"run_udf\", \"result\": true}}}}, \"process_id\": \"reduce_dimension\"}, \"renamelabels1\": {\"arguments\": {\"data\": {\"from_node\": \"applydimension1\"}, \"dimension\": \"bands\", \"target\": [\"NDVI\", \"NDMI\", \"NDRE1\", \"GNDVI\"]}, \"process_id\": \"rename_labels\"}, \"renamelabels2\": {\"arguments\": {\"data\": {\"from_node\": \"applydimension3\"}, \"dimension\": \"bands\", \"target\": [\"NDVI_m1\", \"NDVI_m2\", \"NDVI_m3\", \"NDVI_m4\", \"NDVI_m5\", \"NDVI_m6\", \"NDMI_m1\", \"NDMI_m2\", \"NDMI_m3\", \"NDMI_m4\", \"NDMI_m5\", \"NDMI_m6\", \"NDRE1_m1\", \"NDRE1_m2\", \"NDRE1_m3\", \"NDRE1_m4\", \"NDRE1_m5\", \"NDRE1_m6\", \"GNDVI_m1\", \"GNDVI_m2\", \"GNDVI_m3\", \"GNDVI_m4\", \"GNDVI_m5\", \"GNDVI_m6\"]}, \"process_id\": \"rename_labels\"}, \"renamelabels3\": {\"arguments\": {\"data\": {\"from_node\": \"reducedimension2\"}, \"dimension\": \"bands\", \"target\": [\"NDVI_max\", \"NDMI_max\", \"NDRE1_max\", \"GNDVI_max\"]}, \"process_id\": \"rename_labels\"}, \"renamelabels4\": {\"arguments\": {\"data\": {\"from_node\": \"reducedimension3\"}, \"dimension\": \"bands\", \"target\": [\"NDVI_median\", \"NDMI_median\", \"NDRE1_median\", \"GNDVI_median\"]}, \"process_id\": \"rename_labels\"}, \"saveresult1\": {\"arguments\": {\"data\": {\"from_node\": \"reducedimension6\"}, \"format\": \"GTiff\", \"options\": {}}, \"process_id\": \"save_result\", \"result\": true}}}, \"progress\": 100, \"status\": \"finished\", \"title\": \"busia_prediction\", \"updated\": \"2024-08-28T09:57:22Z\", \"usage\": {\"cpu\": {\"unit\": \"cpu-seconds\", \"value\": 1723.950361559}, \"duration\": {\"unit\": \"seconds\", \"value\": 542}, \"input_pixel\": {\"unit\": \"mega-pixel\", \"value\": 246.28125}, \"max_executor_memory\": {\"unit\": \"gb\", \"value\": 2.111572265625}, \"memory\": {\"unit\": \"mb-seconds\", \"value\": 18143545.267556425}, \"network_received\": {\"unit\": \"b\", \"value\": 21358555895}}}}</script>\n",
       "    </openeo-job>\n",
       "    "
      ],
      "text/plain": [
       "<BatchJob job_id='j-240828d67a4345d79f1cd4571b181826'>"
      ]
     },
     "execution_count": 16,
     "metadata": {},
     "output_type": "execute_result"
    }
   ],
   "source": [
    "# *** udf_rf_onnx.py must be copied to openEO\n",
    ,
    "\n",
    "model_url = \"https://data.admkenya.eu/random_forest_7.onnx\"\n",
    "udf = openeo.UDF.from_file(\n",
    "    \"udf_rf_onnx.py\", \n",
    "    context={\n",
    "        \"model_url\": model_url\n",
    "    }\n",
    ")\n",
    "\n",
    "# Reduce the bands dimesnion to a single prediction using the udf\n",
    "prediction = S2_2023_input_crop.reduce_bands(reducer=udf)\n",
    "\n",
    "\n",
    "# Add the onnx dependencies to the job options. You can reuse this existing dependencies archive\n",
    "dependencies_url = \"https://artifactory.vgt.vito.be/artifactory/auxdata-public/openeo/onnx_dependencies_1.16.3.zip\"\n",
    "job_options = {\n",
    "    \"udf-dependency-archives\": [\n",
    "        f\"{dependencies_url}#onnx_deps\"\n",
    "    ],\n",
    "}\n",
    "\n",
    "# Prediction\n",
    "prediction_job = prediction.create_job(\n",
    "    out_format=\"GTiff\",\n",
    "    job_options=job_options,\n",
    "    title=\"busia_prediction\"\n",
    ")\n",
    "prediction_job.start_and_wait()"
   ]
  },
  {
   "cell_type": "markdown",
   "id": "66b7caf1",
   "metadata": {},
   "source": [
    "## Exporting and Vizualisation:"
   ]
  },
  {
   "cell_type": "code",
   "execution_count": null,
   "id": "1838c958",
   "metadata": {},
   "outputs": [],
   "source": [
    "prediction_job.download_result(\"Busia-aoi_2023_S1_2.tiff\")"
   ]
  },
  {
   "cell_type": "code",
   "execution_count": null,
   "id": "64fe7b11",
   "metadata": {},
   "outputs": [],
   "source": [
    "# Color for False and True\n",
    "cmap = matplotlib.colors.ListedColormap(['black', 'green', 'red'])\n",
    "\n",
    "with rasterio.open(\"Busia-aoi_2023_S1_2.tiff\", dtype=\"uint8\") as src:\n",
    "    show(src, title=\"Prediction\", cmap=cmap)"
   ]
  }
 ],
 "metadata": {
  "kernelspec": {
   "display_name": "Python 3 (ipykernel)",
   "language": "python",
   "name": "python3"
  },
  "language_info": {
   "codemirror_mode": {
    "name": "ipython",
    "version": 3
   },
   "file_extension": ".py",
   "mimetype": "text/x-python",
   "name": "python",
   "nbconvert_exporter": "python",
   "pygments_lexer": "ipython3",
   "version": "3.9.0"
  }
 },
 "nbformat": 4,
 "nbformat_minor": 5
}
